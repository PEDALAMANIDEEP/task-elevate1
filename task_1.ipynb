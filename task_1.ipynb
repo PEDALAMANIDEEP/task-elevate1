{
  "nbformat": 4,
  "nbformat_minor": 0,
  "metadata": {
    "colab": {
      "provenance": [],
      "gpuType": "T4",
      "authorship_tag": "ABX9TyP0mED+pH57K0janL9MMD1O",
      "include_colab_link": true
    },
    "kernelspec": {
      "name": "python3",
      "display_name": "Python 3"
    },
    "language_info": {
      "name": "python"
    },
    "accelerator": "GPU"
  },
  "cells": [
    {
      "cell_type": "markdown",
      "metadata": {
        "id": "view-in-github",
        "colab_type": "text"
      },
      "source": [
        "<a href=\"https://colab.research.google.com/github/PEDALAMANIDEEP/task-elevate1/blob/main/task_1.ipynb\" target=\"_parent\"><img src=\"https://colab.research.google.com/assets/colab-badge.svg\" alt=\"Open In Colab\"/></a>"
      ]
    },
    {
      "cell_type": "code",
      "source": [
        "import pandas as pd\n",
        "\n",
        "df = pd.read_csv('marketing_campaign.csv', sep='\\t')  # File uses tab separator\n",
        "print(df.info())\n",
        "print(df.head())\n",
        "print(df.isnull().sum())\n",
        "df.columns = df.columns.str.strip().str.lower().str.replace(' ', '_')\n",
        "\n",
        "# Print the column names after cleaning\n",
        "print(\"\\nColumns after cleaning:\")\n",
        "print(df.columns)\n",
        "\n",
        "df = df.dropna()\n",
        "df = df.drop_duplicates()\n",
        "\n",
        "# Convert date column to datetime\n",
        "# Check if 'dt_customer' exists before attempting to convert\n",
        "if 'dt_customer' in df.columns:\n",
        "    df['dt_customer'] = pd.to_datetime(df['dt_customer'], format='%d-%m-%Y', errors='coerce')\n",
        "else:\n",
        "    print(\"\\n'dt_customer' column not found in the DataFrame.\")\n",
        "\n",
        "\n",
        "# Convert numeric columns\n",
        "# Add checks for column existence before attempting conversions\n",
        "if 'income' in df.columns:\n",
        "    df['income'] = pd.to_numeric(df['income'], errors='coerce')\n",
        "else:\n",
        "    print(\"\\n'income' column not found.\")\n",
        "\n",
        "if 'kidhome' in df.columns:\n",
        "    df['kidhome'] = df['kidhome'].astype(int)\n",
        "else:\n",
        "    print(\"\\n'kidhome' column not found.\")\n",
        "\n",
        "if 'teenhome' in df.columns:\n",
        "    df['teenhome'] = df['teenhome'].astype(int)\n",
        "else:\n",
        "     print(\"\\n'teenhome' column not found.\")\n",
        "\n",
        "if 'education' in df.columns:\n",
        "    df['education'] = df['education'].str.strip().str.title()\n",
        "else:\n",
        "    print(\"\\n'education' column not found.\")\n",
        "\n",
        "if 'marital_status' in df.columns:\n",
        "    df['marital_status'] = df['marital_status'].str.strip().str.upper()\n",
        "else:\n",
        "    print(\"\\n'marital_status' column not found.\")\n",
        "\n",
        "\n",
        "df.to_csv('cleaned_customer_personality.csv', index=False)"
      ],
      "metadata": {
        "colab": {
          "base_uri": "https://localhost:8080/"
        },
        "id": "NNozJLKyxQMw",
        "outputId": "d23fb0ee-5fe7-4002-a61f-5eba4136d96a"
      },
      "execution_count": null,
      "outputs": [
        {
          "output_type": "stream",
          "name": "stdout",
          "text": [
            "<class 'pandas.core.frame.DataFrame'>\n",
            "RangeIndex: 2240 entries, 0 to 2239\n",
            "Data columns (total 1 columns):\n",
            " #   Column                                                                                                                                                                                                                                                                                                                                                                    Non-Null Count  Dtype \n",
            "---  ------                                                                                                                                                                                                                                                                                                                                                                    --------------  ----- \n",
            " 0   ID,Year_Birth,Education,Marital_Status,Income,Kidhome,Teenhome,Dt_Customer,Recency,MntWines,MntFruits,MntMeatProducts,MntFishProducts,MntSweetProducts,MntGoldProds,NumDealsPurchases,NumWebPurchases,NumCatalogPurchases,NumStorePurchases,NumWebVisitsMonth,AcceptedCmp3,AcceptedCmp4,AcceptedCmp5,AcceptedCmp1,AcceptedCmp2,Complain,Z_CostContact,Z_Revenue,Response  2240 non-null   object\n",
            "dtypes: object(1)\n",
            "memory usage: 17.6+ KB\n",
            "None\n",
            "  ID,Year_Birth,Education,Marital_Status,Income,Kidhome,Teenhome,Dt_Customer,Recency,MntWines,MntFruits,MntMeatProducts,MntFishProducts,MntSweetProducts,MntGoldProds,NumDealsPurchases,NumWebPurchases,NumCatalogPurchases,NumStorePurchases,NumWebVisitsMonth,AcceptedCmp3,AcceptedCmp4,AcceptedCmp5,AcceptedCmp1,AcceptedCmp2,Complain,Z_CostContact,Z_Revenue,Response\n",
            "0  5524,1957,Graduation,Single,58138,0,0,04-09-20...                                                                                                                                                                                                                                                                                                                      \n",
            "1  2174,1954,Graduation,Single,46344,1,1,08-03-20...                                                                                                                                                                                                                                                                                                                      \n",
            "2  4141,1965,Graduation,Together,71613,0,0,21-08-...                                                                                                                                                                                                                                                                                                                      \n",
            "3  6182,1984,Graduation,Together,26646,1,0,10-02-...                                                                                                                                                                                                                                                                                                                      \n",
            "4  5324,1981,PhD,Married,58293,1,0,19-01-2014,94,...                                                                                                                                                                                                                                                                                                                      \n",
            "ID,Year_Birth,Education,Marital_Status,Income,Kidhome,Teenhome,Dt_Customer,Recency,MntWines,MntFruits,MntMeatProducts,MntFishProducts,MntSweetProducts,MntGoldProds,NumDealsPurchases,NumWebPurchases,NumCatalogPurchases,NumStorePurchases,NumWebVisitsMonth,AcceptedCmp3,AcceptedCmp4,AcceptedCmp5,AcceptedCmp1,AcceptedCmp2,Complain,Z_CostContact,Z_Revenue,Response    0\n",
            "dtype: int64\n",
            "\n",
            "Columns after cleaning:\n",
            "Index(['id,year_birth,education,marital_status,income,kidhome,teenhome,dt_customer,recency,mntwines,mntfruits,mntmeatproducts,mntfishproducts,mntsweetproducts,mntgoldprods,numdealspurchases,numwebpurchases,numcatalogpurchases,numstorepurchases,numwebvisitsmonth,acceptedcmp3,acceptedcmp4,acceptedcmp5,acceptedcmp1,acceptedcmp2,complain,z_costcontact,z_revenue,response'], dtype='object')\n",
            "\n",
            "'dt_customer' column not found in the DataFrame.\n",
            "\n",
            "'income' column not found.\n",
            "\n",
            "'kidhome' column not found.\n",
            "\n",
            "'teenhome' column not found.\n",
            "\n",
            "'education' column not found.\n",
            "\n",
            "'marital_status' column not found.\n"
          ]
        }
      ]
    }
  ]
}